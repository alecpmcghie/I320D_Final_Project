{
  "cells": [
    {
      "cell_type": "markdown",
      "source": [
        "# Overview\n",
        "The goal of this project is to use TensorFlow to predict credit card fraud based on transactions provided by the Machine Learning Group at the Free University in Brussels.\n",
        "<br> Contributers:\n",
        "<br>- Alec McGhie\n",
        "\n"
      ],
      "metadata": {
        "id": "tm58hv2SzVlc"
      }
    },
    {
      "cell_type": "markdown",
      "metadata": {
        "id": "XSCE2EVYMOwR"
      },
      "source": [
        "## Step 1: Importing libraries\n"
      ]
    },
    {
      "cell_type": "code",
      "execution_count": 1,
      "metadata": {
        "id": "rZbnbeGAKXid"
      },
      "outputs": [],
      "source": [
        "import tensorflow as tf\n",
        "# Needed for MaxPool\n",
        "from tensorflow import keras\n",
        "from tensorflow.keras import Sequential\n",
        "from tensorflow.keras.layers import Flatten, Dense, Dropout, BatchNormalization\n",
        "from tensorflow.keras.layers import Conv1D, MaxPool1D\n",
        "# Needed for dataframes\n",
        "import pandas as pd\n",
        "#needed to translate labels into numpy\n",
        "import numpy as np\n",
        "# Needed for plotting the data\n",
        "import matplotlib.pyplot as plt\n",
        "# Needed for splitting the dataframe\n",
        "from sklearn.model_selection import train_test_split\n",
        "# Needed for scaling the features\n",
        "from sklearn.preprocessing import StandardScaler"
      ]
    },
    {
      "cell_type": "markdown",
      "metadata": {
        "id": "QglR4X7BMu3y"
      },
      "source": [
        "## Step 2: Data Preprocessing"
      ]
    },
    {
      "cell_type": "markdown",
      "metadata": {
        "id": "1lWBjTrLNfYY"
      },
      "source": [
        "#### Step 2.1: Uploading the data from dataworld\n",
        "Original link [Credit Card Fraud Data](https://data.world/raghu543/credit-card-fraud-data)"
      ]
    },
    {
      "cell_type": "code",
      "execution_count": 2,
      "metadata": {
        "colab": {
          "base_uri": "https://localhost:8080/"
        },
        "id": "hLud89n-Mnz0",
        "outputId": "160737b8-1f31-4cdc-a793-1effd73f4c88"
      },
      "outputs": [
        {
          "output_type": "execute_result",
          "data": {
            "text/plain": [
              "(284807, 31)"
            ]
          },
          "metadata": {},
          "execution_count": 2
        }
      ],
      "source": [
        "credit_card_df = pd.read_csv(\"https://query.data.world/s/gyyiyxdr6fpnx42ragtni6ggdz5pok?dws=00000\")\n",
        "credit_card_df.head()\n",
        "credit_card_df.shape"
      ]
    },
    {
      "cell_type": "markdown",
      "metadata": {
        "id": "QtTNClkpNzxN"
      },
      "source": [
        "#### Step 2.2 Data Balancing\n",
        "Due to the heavy imbalence in the data in order for the neural network to be effective we need to make the datasets more similar in size to avoid underfitting the model.\n"
      ]
    },
    {
      "cell_type": "code",
      "execution_count": 3,
      "metadata": {
        "colab": {
          "base_uri": "https://localhost:8080/"
        },
        "id": "f52meJE-NzWM",
        "outputId": "6889f5e2-e59f-4144-e089-6179d32e2f51"
      },
      "outputs": [
        {
          "output_type": "execute_result",
          "data": {
            "text/plain": [
              "0    284315\n",
              "1       492\n",
              "Name: Class, dtype: int64"
            ]
          },
          "metadata": {},
          "execution_count": 3
        }
      ],
      "source": [
        "credit_card_df[\"Class\"].value_counts()"
      ]
    },
    {
      "cell_type": "markdown",
      "metadata": {
        "id": "JDTsR-Swg7H5"
      },
      "source": [
        "#### Step 2.3: Splitting the postive and negitive fraud results"
      ]
    },
    {
      "cell_type": "code",
      "execution_count": 4,
      "metadata": {
        "colab": {
          "base_uri": "https://localhost:8080/"
        },
        "id": "n3vaIKlKNMD-",
        "outputId": "d628af90-f467-482a-874c-862770f8ee69"
      },
      "outputs": [
        {
          "output_type": "stream",
          "name": "stdout",
          "text": [
            "        Time        V1        V2        V3        V4        V5        V6  \\\n",
            "541    406.0 -2.312227  1.951992 -1.609851  3.997906 -0.522188 -1.426545   \n",
            "623    472.0 -3.043541 -3.157307  1.088463  2.288644  1.359805 -1.064823   \n",
            "4920  4462.0 -2.303350  1.759247 -0.359745  2.330243 -0.821628 -0.075788   \n",
            "6108  6986.0 -4.397974  1.358367 -2.592844  2.679787 -1.128131 -1.706536   \n",
            "6329  7519.0  1.234235  3.019740 -4.304597  4.732795  3.624201 -1.357746   \n",
            "\n",
            "            V7        V8        V9  ...       V21       V22       V23  \\\n",
            "541  -2.537387  1.391657 -2.770089  ...  0.517232 -0.035049 -0.465211   \n",
            "623   0.325574 -0.067794 -0.270953  ...  0.661696  0.435477  1.375966   \n",
            "4920  0.562320 -0.399147 -0.238253  ... -0.294166 -0.932391  0.172726   \n",
            "6108 -3.496197 -0.248778 -0.247768  ...  0.573574  0.176968 -0.436207   \n",
            "6329  1.713445 -0.496358 -1.282858  ... -0.379068 -0.704181 -0.656805   \n",
            "\n",
            "           V24       V25       V26       V27       V28  Amount  Class  \n",
            "541   0.320198  0.044519  0.177840  0.261145 -0.143276    0.00      1  \n",
            "623  -0.293803  0.279798 -0.145362 -0.252773  0.035764  529.00      1  \n",
            "4920 -0.087330 -0.156114 -0.542628  0.039566 -0.153029  239.93      1  \n",
            "6108 -0.053502  0.252405 -0.657488 -0.827136  0.849573   59.00      1  \n",
            "6329 -1.632653  1.488901  0.566797 -0.010016  0.146793    1.00      1  \n",
            "\n",
            "[5 rows x 31 columns]\n",
            "   Time        V1        V2        V3        V4        V5        V6        V7  \\\n",
            "0   0.0 -1.359807 -0.072781  2.536347  1.378155 -0.338321  0.462388  0.239599   \n",
            "1   0.0  1.191857  0.266151  0.166480  0.448154  0.060018 -0.082361 -0.078803   \n",
            "2   1.0 -1.358354 -1.340163  1.773209  0.379780 -0.503198  1.800499  0.791461   \n",
            "3   1.0 -0.966272 -0.185226  1.792993 -0.863291 -0.010309  1.247203  0.237609   \n",
            "4   2.0 -1.158233  0.877737  1.548718  0.403034 -0.407193  0.095921  0.592941   \n",
            "\n",
            "         V8        V9  ...       V21       V22       V23       V24       V25  \\\n",
            "0  0.098698  0.363787  ... -0.018307  0.277838 -0.110474  0.066928  0.128539   \n",
            "1  0.085102 -0.255425  ... -0.225775 -0.638672  0.101288 -0.339846  0.167170   \n",
            "2  0.247676 -1.514654  ...  0.247998  0.771679  0.909412 -0.689281 -0.327642   \n",
            "3  0.377436 -1.387024  ... -0.108300  0.005274 -0.190321 -1.175575  0.647376   \n",
            "4 -0.270533  0.817739  ... -0.009431  0.798278 -0.137458  0.141267 -0.206010   \n",
            "\n",
            "        V26       V27       V28  Amount  Class  \n",
            "0 -0.189115  0.133558 -0.021053  149.62      0  \n",
            "1  0.125895 -0.008983  0.014724    2.69      0  \n",
            "2 -0.139097 -0.055353 -0.059752  378.66      0  \n",
            "3 -0.221929  0.062723  0.061458  123.50      0  \n",
            "4  0.502292  0.219422  0.215153   69.99      0  \n",
            "\n",
            "[5 rows x 31 columns]\n"
          ]
        },
        {
          "output_type": "execute_result",
          "data": {
            "text/plain": [
              "((492, 31), (284315, 31))"
            ]
          },
          "metadata": {},
          "execution_count": 4
        }
      ],
      "source": [
        "fraud_postitive_df = credit_card_df[credit_card_df[\"Class\"]==1]\n",
        "print(fraud_postitive_df.head())\n",
        "fraud_negitive_df = credit_card_df[credit_card_df[\"Class\"]==0]\n",
        "print(fraud_negitive_df.head())\n",
        "fraud_postitive_df.shape , fraud_negitive_df.shape"
      ]
    },
    {
      "cell_type": "markdown",
      "metadata": {
        "id": "S89s02vvgn_f"
      },
      "source": [
        "#### 2.4 Cutting down the `fraud_negitive_df` to be the same size as `fraud_positive_df`"
      ]
    },
    {
      "cell_type": "code",
      "execution_count": 5,
      "metadata": {
        "colab": {
          "base_uri": "https://localhost:8080/"
        },
        "id": "Bqr6r7z_8VV0",
        "outputId": "3d0a92b5-4b0c-48fa-9038-06ba1d08d7a5"
      },
      "outputs": [
        {
          "output_type": "execute_result",
          "data": {
            "text/plain": [
              "(492, 31)"
            ]
          },
          "metadata": {},
          "execution_count": 5
        }
      ],
      "source": [
        "# Resizing the non fraud to be the same size as the fraud\n",
        "fraud_negitive_df = fraud_negitive_df.head(492)\n",
        "fraud_negitive_df.shape"
      ]
    },
    {
      "cell_type": "markdown",
      "metadata": {
        "id": "oaBjlAsehKOJ"
      },
      "source": [
        "#### Step 2.5 Combining the reshaped `fraud_negitive_df` with `fraud_positive_df`"
      ]
    },
    {
      "cell_type": "code",
      "execution_count": 6,
      "metadata": {
        "colab": {
          "base_uri": "https://localhost:8080/",
          "height": 522
        },
        "id": "tLOEMD3t9_MO",
        "outputId": "94f5a9f3-2f1e-427e-872d-2ad973cfc376"
      },
      "outputs": [
        {
          "output_type": "stream",
          "name": "stderr",
          "text": [
            "<ipython-input-6-a3d8aa9a5ed7>:2: FutureWarning: The frame.append method is deprecated and will be removed from pandas in a future version. Use pandas.concat instead.\n",
            "  fraud_testing_df = fraud_negitive_df.append(fraud_postitive_df, ignore_index = True)\n"
          ]
        },
        {
          "output_type": "execute_result",
          "data": {
            "text/plain": [
              "         Time        V1        V2        V3        V4        V5        V6  \\\n",
              "0         0.0 -1.359807 -0.072781  2.536347  1.378155 -0.338321  0.462388   \n",
              "1         0.0  1.191857  0.266151  0.166480  0.448154  0.060018 -0.082361   \n",
              "2         1.0 -1.358354 -1.340163  1.773209  0.379780 -0.503198  1.800499   \n",
              "3         1.0 -0.966272 -0.185226  1.792993 -0.863291 -0.010309  1.247203   \n",
              "4         2.0 -1.158233  0.877737  1.548718  0.403034 -0.407193  0.095921   \n",
              "..        ...       ...       ...       ...       ...       ...       ...   \n",
              "979  169142.0 -1.927883  1.125653 -4.518331  1.749293 -1.566487 -2.010494   \n",
              "980  169347.0  1.378559  1.289381 -5.004247  1.411850  0.442581 -1.326536   \n",
              "981  169351.0 -0.676143  1.126366 -2.213700  0.468308 -1.120541 -0.003346   \n",
              "982  169966.0 -3.113832  0.585864 -5.399730  1.817092 -0.840618 -2.943548   \n",
              "983  170348.0  1.991976  0.158476 -2.583441  0.408670  1.151147 -0.096695   \n",
              "\n",
              "           V7        V8        V9  ...       V21       V22       V23  \\\n",
              "0    0.239599  0.098698  0.363787  ... -0.018307  0.277838 -0.110474   \n",
              "1   -0.078803  0.085102 -0.255425  ... -0.225775 -0.638672  0.101288   \n",
              "2    0.791461  0.247676 -1.514654  ...  0.247998  0.771679  0.909412   \n",
              "3    0.237609  0.377436 -1.387024  ... -0.108300  0.005274 -0.190321   \n",
              "4    0.592941 -0.270533  0.817739  ... -0.009431  0.798278 -0.137458   \n",
              "..        ...       ...       ...  ...       ...       ...       ...   \n",
              "979 -0.882850  0.697211 -2.064945  ...  0.778584 -0.319189  0.639419   \n",
              "980 -1.413170  0.248525 -1.127396  ...  0.370612  0.028234 -0.145640   \n",
              "981 -2.234739  1.210158 -0.652250  ...  0.751826  0.834108  0.190944   \n",
              "982 -2.208002  1.058733 -1.632333  ...  0.583276 -0.269209 -0.456108   \n",
              "983  0.223050 -0.068384  0.577829  ... -0.164350 -0.295135 -0.072173   \n",
              "\n",
              "          V24       V25       V26       V27       V28  Amount  Class  \n",
              "0    0.066928  0.128539 -0.189115  0.133558 -0.021053  149.62      0  \n",
              "1   -0.339846  0.167170  0.125895 -0.008983  0.014724    2.69      0  \n",
              "2   -0.689281 -0.327642 -0.139097 -0.055353 -0.059752  378.66      0  \n",
              "3   -1.175575  0.647376 -0.221929  0.062723  0.061458  123.50      0  \n",
              "4    0.141267 -0.206010  0.502292  0.219422  0.215153   69.99      0  \n",
              "..        ...       ...       ...       ...       ...     ...    ...  \n",
              "979 -0.294885  0.537503  0.788395  0.292680  0.147968  390.00      1  \n",
              "980 -0.081049  0.521875  0.739467  0.389152  0.186637    0.76      1  \n",
              "981  0.032070 -0.739695  0.471111  0.385107  0.194361   77.89      1  \n",
              "982 -0.183659 -0.328168  0.606116  0.884876 -0.253700  245.00      1  \n",
              "983 -0.450261  0.313267 -0.289617  0.002988 -0.015309   42.53      1  \n",
              "\n",
              "[984 rows x 31 columns]"
            ],
            "text/html": [
              "\n",
              "  <div id=\"df-fd5b29e8-c633-4a14-929d-aaf0bd80a335\">\n",
              "    <div class=\"colab-df-container\">\n",
              "      <div>\n",
              "<style scoped>\n",
              "    .dataframe tbody tr th:only-of-type {\n",
              "        vertical-align: middle;\n",
              "    }\n",
              "\n",
              "    .dataframe tbody tr th {\n",
              "        vertical-align: top;\n",
              "    }\n",
              "\n",
              "    .dataframe thead th {\n",
              "        text-align: right;\n",
              "    }\n",
              "</style>\n",
              "<table border=\"1\" class=\"dataframe\">\n",
              "  <thead>\n",
              "    <tr style=\"text-align: right;\">\n",
              "      <th></th>\n",
              "      <th>Time</th>\n",
              "      <th>V1</th>\n",
              "      <th>V2</th>\n",
              "      <th>V3</th>\n",
              "      <th>V4</th>\n",
              "      <th>V5</th>\n",
              "      <th>V6</th>\n",
              "      <th>V7</th>\n",
              "      <th>V8</th>\n",
              "      <th>V9</th>\n",
              "      <th>...</th>\n",
              "      <th>V21</th>\n",
              "      <th>V22</th>\n",
              "      <th>V23</th>\n",
              "      <th>V24</th>\n",
              "      <th>V25</th>\n",
              "      <th>V26</th>\n",
              "      <th>V27</th>\n",
              "      <th>V28</th>\n",
              "      <th>Amount</th>\n",
              "      <th>Class</th>\n",
              "    </tr>\n",
              "  </thead>\n",
              "  <tbody>\n",
              "    <tr>\n",
              "      <th>0</th>\n",
              "      <td>0.0</td>\n",
              "      <td>-1.359807</td>\n",
              "      <td>-0.072781</td>\n",
              "      <td>2.536347</td>\n",
              "      <td>1.378155</td>\n",
              "      <td>-0.338321</td>\n",
              "      <td>0.462388</td>\n",
              "      <td>0.239599</td>\n",
              "      <td>0.098698</td>\n",
              "      <td>0.363787</td>\n",
              "      <td>...</td>\n",
              "      <td>-0.018307</td>\n",
              "      <td>0.277838</td>\n",
              "      <td>-0.110474</td>\n",
              "      <td>0.066928</td>\n",
              "      <td>0.128539</td>\n",
              "      <td>-0.189115</td>\n",
              "      <td>0.133558</td>\n",
              "      <td>-0.021053</td>\n",
              "      <td>149.62</td>\n",
              "      <td>0</td>\n",
              "    </tr>\n",
              "    <tr>\n",
              "      <th>1</th>\n",
              "      <td>0.0</td>\n",
              "      <td>1.191857</td>\n",
              "      <td>0.266151</td>\n",
              "      <td>0.166480</td>\n",
              "      <td>0.448154</td>\n",
              "      <td>0.060018</td>\n",
              "      <td>-0.082361</td>\n",
              "      <td>-0.078803</td>\n",
              "      <td>0.085102</td>\n",
              "      <td>-0.255425</td>\n",
              "      <td>...</td>\n",
              "      <td>-0.225775</td>\n",
              "      <td>-0.638672</td>\n",
              "      <td>0.101288</td>\n",
              "      <td>-0.339846</td>\n",
              "      <td>0.167170</td>\n",
              "      <td>0.125895</td>\n",
              "      <td>-0.008983</td>\n",
              "      <td>0.014724</td>\n",
              "      <td>2.69</td>\n",
              "      <td>0</td>\n",
              "    </tr>\n",
              "    <tr>\n",
              "      <th>2</th>\n",
              "      <td>1.0</td>\n",
              "      <td>-1.358354</td>\n",
              "      <td>-1.340163</td>\n",
              "      <td>1.773209</td>\n",
              "      <td>0.379780</td>\n",
              "      <td>-0.503198</td>\n",
              "      <td>1.800499</td>\n",
              "      <td>0.791461</td>\n",
              "      <td>0.247676</td>\n",
              "      <td>-1.514654</td>\n",
              "      <td>...</td>\n",
              "      <td>0.247998</td>\n",
              "      <td>0.771679</td>\n",
              "      <td>0.909412</td>\n",
              "      <td>-0.689281</td>\n",
              "      <td>-0.327642</td>\n",
              "      <td>-0.139097</td>\n",
              "      <td>-0.055353</td>\n",
              "      <td>-0.059752</td>\n",
              "      <td>378.66</td>\n",
              "      <td>0</td>\n",
              "    </tr>\n",
              "    <tr>\n",
              "      <th>3</th>\n",
              "      <td>1.0</td>\n",
              "      <td>-0.966272</td>\n",
              "      <td>-0.185226</td>\n",
              "      <td>1.792993</td>\n",
              "      <td>-0.863291</td>\n",
              "      <td>-0.010309</td>\n",
              "      <td>1.247203</td>\n",
              "      <td>0.237609</td>\n",
              "      <td>0.377436</td>\n",
              "      <td>-1.387024</td>\n",
              "      <td>...</td>\n",
              "      <td>-0.108300</td>\n",
              "      <td>0.005274</td>\n",
              "      <td>-0.190321</td>\n",
              "      <td>-1.175575</td>\n",
              "      <td>0.647376</td>\n",
              "      <td>-0.221929</td>\n",
              "      <td>0.062723</td>\n",
              "      <td>0.061458</td>\n",
              "      <td>123.50</td>\n",
              "      <td>0</td>\n",
              "    </tr>\n",
              "    <tr>\n",
              "      <th>4</th>\n",
              "      <td>2.0</td>\n",
              "      <td>-1.158233</td>\n",
              "      <td>0.877737</td>\n",
              "      <td>1.548718</td>\n",
              "      <td>0.403034</td>\n",
              "      <td>-0.407193</td>\n",
              "      <td>0.095921</td>\n",
              "      <td>0.592941</td>\n",
              "      <td>-0.270533</td>\n",
              "      <td>0.817739</td>\n",
              "      <td>...</td>\n",
              "      <td>-0.009431</td>\n",
              "      <td>0.798278</td>\n",
              "      <td>-0.137458</td>\n",
              "      <td>0.141267</td>\n",
              "      <td>-0.206010</td>\n",
              "      <td>0.502292</td>\n",
              "      <td>0.219422</td>\n",
              "      <td>0.215153</td>\n",
              "      <td>69.99</td>\n",
              "      <td>0</td>\n",
              "    </tr>\n",
              "    <tr>\n",
              "      <th>...</th>\n",
              "      <td>...</td>\n",
              "      <td>...</td>\n",
              "      <td>...</td>\n",
              "      <td>...</td>\n",
              "      <td>...</td>\n",
              "      <td>...</td>\n",
              "      <td>...</td>\n",
              "      <td>...</td>\n",
              "      <td>...</td>\n",
              "      <td>...</td>\n",
              "      <td>...</td>\n",
              "      <td>...</td>\n",
              "      <td>...</td>\n",
              "      <td>...</td>\n",
              "      <td>...</td>\n",
              "      <td>...</td>\n",
              "      <td>...</td>\n",
              "      <td>...</td>\n",
              "      <td>...</td>\n",
              "      <td>...</td>\n",
              "      <td>...</td>\n",
              "    </tr>\n",
              "    <tr>\n",
              "      <th>979</th>\n",
              "      <td>169142.0</td>\n",
              "      <td>-1.927883</td>\n",
              "      <td>1.125653</td>\n",
              "      <td>-4.518331</td>\n",
              "      <td>1.749293</td>\n",
              "      <td>-1.566487</td>\n",
              "      <td>-2.010494</td>\n",
              "      <td>-0.882850</td>\n",
              "      <td>0.697211</td>\n",
              "      <td>-2.064945</td>\n",
              "      <td>...</td>\n",
              "      <td>0.778584</td>\n",
              "      <td>-0.319189</td>\n",
              "      <td>0.639419</td>\n",
              "      <td>-0.294885</td>\n",
              "      <td>0.537503</td>\n",
              "      <td>0.788395</td>\n",
              "      <td>0.292680</td>\n",
              "      <td>0.147968</td>\n",
              "      <td>390.00</td>\n",
              "      <td>1</td>\n",
              "    </tr>\n",
              "    <tr>\n",
              "      <th>980</th>\n",
              "      <td>169347.0</td>\n",
              "      <td>1.378559</td>\n",
              "      <td>1.289381</td>\n",
              "      <td>-5.004247</td>\n",
              "      <td>1.411850</td>\n",
              "      <td>0.442581</td>\n",
              "      <td>-1.326536</td>\n",
              "      <td>-1.413170</td>\n",
              "      <td>0.248525</td>\n",
              "      <td>-1.127396</td>\n",
              "      <td>...</td>\n",
              "      <td>0.370612</td>\n",
              "      <td>0.028234</td>\n",
              "      <td>-0.145640</td>\n",
              "      <td>-0.081049</td>\n",
              "      <td>0.521875</td>\n",
              "      <td>0.739467</td>\n",
              "      <td>0.389152</td>\n",
              "      <td>0.186637</td>\n",
              "      <td>0.76</td>\n",
              "      <td>1</td>\n",
              "    </tr>\n",
              "    <tr>\n",
              "      <th>981</th>\n",
              "      <td>169351.0</td>\n",
              "      <td>-0.676143</td>\n",
              "      <td>1.126366</td>\n",
              "      <td>-2.213700</td>\n",
              "      <td>0.468308</td>\n",
              "      <td>-1.120541</td>\n",
              "      <td>-0.003346</td>\n",
              "      <td>-2.234739</td>\n",
              "      <td>1.210158</td>\n",
              "      <td>-0.652250</td>\n",
              "      <td>...</td>\n",
              "      <td>0.751826</td>\n",
              "      <td>0.834108</td>\n",
              "      <td>0.190944</td>\n",
              "      <td>0.032070</td>\n",
              "      <td>-0.739695</td>\n",
              "      <td>0.471111</td>\n",
              "      <td>0.385107</td>\n",
              "      <td>0.194361</td>\n",
              "      <td>77.89</td>\n",
              "      <td>1</td>\n",
              "    </tr>\n",
              "    <tr>\n",
              "      <th>982</th>\n",
              "      <td>169966.0</td>\n",
              "      <td>-3.113832</td>\n",
              "      <td>0.585864</td>\n",
              "      <td>-5.399730</td>\n",
              "      <td>1.817092</td>\n",
              "      <td>-0.840618</td>\n",
              "      <td>-2.943548</td>\n",
              "      <td>-2.208002</td>\n",
              "      <td>1.058733</td>\n",
              "      <td>-1.632333</td>\n",
              "      <td>...</td>\n",
              "      <td>0.583276</td>\n",
              "      <td>-0.269209</td>\n",
              "      <td>-0.456108</td>\n",
              "      <td>-0.183659</td>\n",
              "      <td>-0.328168</td>\n",
              "      <td>0.606116</td>\n",
              "      <td>0.884876</td>\n",
              "      <td>-0.253700</td>\n",
              "      <td>245.00</td>\n",
              "      <td>1</td>\n",
              "    </tr>\n",
              "    <tr>\n",
              "      <th>983</th>\n",
              "      <td>170348.0</td>\n",
              "      <td>1.991976</td>\n",
              "      <td>0.158476</td>\n",
              "      <td>-2.583441</td>\n",
              "      <td>0.408670</td>\n",
              "      <td>1.151147</td>\n",
              "      <td>-0.096695</td>\n",
              "      <td>0.223050</td>\n",
              "      <td>-0.068384</td>\n",
              "      <td>0.577829</td>\n",
              "      <td>...</td>\n",
              "      <td>-0.164350</td>\n",
              "      <td>-0.295135</td>\n",
              "      <td>-0.072173</td>\n",
              "      <td>-0.450261</td>\n",
              "      <td>0.313267</td>\n",
              "      <td>-0.289617</td>\n",
              "      <td>0.002988</td>\n",
              "      <td>-0.015309</td>\n",
              "      <td>42.53</td>\n",
              "      <td>1</td>\n",
              "    </tr>\n",
              "  </tbody>\n",
              "</table>\n",
              "<p>984 rows × 31 columns</p>\n",
              "</div>\n",
              "      <button class=\"colab-df-convert\" onclick=\"convertToInteractive('df-fd5b29e8-c633-4a14-929d-aaf0bd80a335')\"\n",
              "              title=\"Convert this dataframe to an interactive table.\"\n",
              "              style=\"display:none;\">\n",
              "        \n",
              "  <svg xmlns=\"http://www.w3.org/2000/svg\" height=\"24px\"viewBox=\"0 0 24 24\"\n",
              "       width=\"24px\">\n",
              "    <path d=\"M0 0h24v24H0V0z\" fill=\"none\"/>\n",
              "    <path d=\"M18.56 5.44l.94 2.06.94-2.06 2.06-.94-2.06-.94-.94-2.06-.94 2.06-2.06.94zm-11 1L8.5 8.5l.94-2.06 2.06-.94-2.06-.94L8.5 2.5l-.94 2.06-2.06.94zm10 10l.94 2.06.94-2.06 2.06-.94-2.06-.94-.94-2.06-.94 2.06-2.06.94z\"/><path d=\"M17.41 7.96l-1.37-1.37c-.4-.4-.92-.59-1.43-.59-.52 0-1.04.2-1.43.59L10.3 9.45l-7.72 7.72c-.78.78-.78 2.05 0 2.83L4 21.41c.39.39.9.59 1.41.59.51 0 1.02-.2 1.41-.59l7.78-7.78 2.81-2.81c.8-.78.8-2.07 0-2.86zM5.41 20L4 18.59l7.72-7.72 1.47 1.35L5.41 20z\"/>\n",
              "  </svg>\n",
              "      </button>\n",
              "      \n",
              "  <style>\n",
              "    .colab-df-container {\n",
              "      display:flex;\n",
              "      flex-wrap:wrap;\n",
              "      gap: 12px;\n",
              "    }\n",
              "\n",
              "    .colab-df-convert {\n",
              "      background-color: #E8F0FE;\n",
              "      border: none;\n",
              "      border-radius: 50%;\n",
              "      cursor: pointer;\n",
              "      display: none;\n",
              "      fill: #1967D2;\n",
              "      height: 32px;\n",
              "      padding: 0 0 0 0;\n",
              "      width: 32px;\n",
              "    }\n",
              "\n",
              "    .colab-df-convert:hover {\n",
              "      background-color: #E2EBFA;\n",
              "      box-shadow: 0px 1px 2px rgba(60, 64, 67, 0.3), 0px 1px 3px 1px rgba(60, 64, 67, 0.15);\n",
              "      fill: #174EA6;\n",
              "    }\n",
              "\n",
              "    [theme=dark] .colab-df-convert {\n",
              "      background-color: #3B4455;\n",
              "      fill: #D2E3FC;\n",
              "    }\n",
              "\n",
              "    [theme=dark] .colab-df-convert:hover {\n",
              "      background-color: #434B5C;\n",
              "      box-shadow: 0px 1px 3px 1px rgba(0, 0, 0, 0.15);\n",
              "      filter: drop-shadow(0px 1px 2px rgba(0, 0, 0, 0.3));\n",
              "      fill: #FFFFFF;\n",
              "    }\n",
              "  </style>\n",
              "\n",
              "      <script>\n",
              "        const buttonEl =\n",
              "          document.querySelector('#df-fd5b29e8-c633-4a14-929d-aaf0bd80a335 button.colab-df-convert');\n",
              "        buttonEl.style.display =\n",
              "          google.colab.kernel.accessAllowed ? 'block' : 'none';\n",
              "\n",
              "        async function convertToInteractive(key) {\n",
              "          const element = document.querySelector('#df-fd5b29e8-c633-4a14-929d-aaf0bd80a335');\n",
              "          const dataTable =\n",
              "            await google.colab.kernel.invokeFunction('convertToInteractive',\n",
              "                                                     [key], {});\n",
              "          if (!dataTable) return;\n",
              "\n",
              "          const docLinkHtml = 'Like what you see? Visit the ' +\n",
              "            '<a target=\"_blank\" href=https://colab.research.google.com/notebooks/data_table.ipynb>data table notebook</a>'\n",
              "            + ' to learn more about interactive tables.';\n",
              "          element.innerHTML = '';\n",
              "          dataTable['output_type'] = 'display_data';\n",
              "          await google.colab.output.renderOutput(dataTable, element);\n",
              "          const docLink = document.createElement('div');\n",
              "          docLink.innerHTML = docLinkHtml;\n",
              "          element.appendChild(docLink);\n",
              "        }\n",
              "      </script>\n",
              "    </div>\n",
              "  </div>\n",
              "  "
            ]
          },
          "metadata": {},
          "execution_count": 6
        }
      ],
      "source": [
        "# Combining the two datasets\n",
        "fraud_testing_df = fraud_negitive_df.append(fraud_postitive_df, ignore_index = True)\n",
        "fraud_testing_df"
      ]
    },
    {
      "cell_type": "markdown",
      "metadata": {
        "id": "WtjsGLV0hdLY"
      },
      "source": [
        "#### Step 2.6: Splitting into Features and Labels"
      ]
    },
    {
      "cell_type": "code",
      "execution_count": 7,
      "metadata": {
        "colab": {
          "base_uri": "https://localhost:8080/"
        },
        "id": "cOicboqq-kvs",
        "outputId": "c1d66568-97b5-405e-d78d-64664b5b0216"
      },
      "outputs": [
        {
          "output_type": "stream",
          "name": "stdout",
          "text": [
            "0      0\n",
            "1      0\n",
            "2      0\n",
            "3      0\n",
            "4      0\n",
            "      ..\n",
            "979    1\n",
            "980    1\n",
            "981    1\n",
            "982    1\n",
            "983    1\n",
            "Name: Class, Length: 984, dtype: int64\n",
            "         Time        V1        V2        V3        V4        V5        V6  \\\n",
            "0         0.0 -1.359807 -0.072781  2.536347  1.378155 -0.338321  0.462388   \n",
            "1         0.0  1.191857  0.266151  0.166480  0.448154  0.060018 -0.082361   \n",
            "2         1.0 -1.358354 -1.340163  1.773209  0.379780 -0.503198  1.800499   \n",
            "3         1.0 -0.966272 -0.185226  1.792993 -0.863291 -0.010309  1.247203   \n",
            "4         2.0 -1.158233  0.877737  1.548718  0.403034 -0.407193  0.095921   \n",
            "..        ...       ...       ...       ...       ...       ...       ...   \n",
            "979  169142.0 -1.927883  1.125653 -4.518331  1.749293 -1.566487 -2.010494   \n",
            "980  169347.0  1.378559  1.289381 -5.004247  1.411850  0.442581 -1.326536   \n",
            "981  169351.0 -0.676143  1.126366 -2.213700  0.468308 -1.120541 -0.003346   \n",
            "982  169966.0 -3.113832  0.585864 -5.399730  1.817092 -0.840618 -2.943548   \n",
            "983  170348.0  1.991976  0.158476 -2.583441  0.408670  1.151147 -0.096695   \n",
            "\n",
            "           V7        V8        V9  ...       V20       V21       V22  \\\n",
            "0    0.239599  0.098698  0.363787  ...  0.251412 -0.018307  0.277838   \n",
            "1   -0.078803  0.085102 -0.255425  ... -0.069083 -0.225775 -0.638672   \n",
            "2    0.791461  0.247676 -1.514654  ...  0.524980  0.247998  0.771679   \n",
            "3    0.237609  0.377436 -1.387024  ... -0.208038 -0.108300  0.005274   \n",
            "4    0.592941 -0.270533  0.817739  ...  0.408542 -0.009431  0.798278   \n",
            "..        ...       ...       ...  ...       ...       ...       ...   \n",
            "979 -0.882850  0.697211 -2.064945  ...  1.252967  0.778584 -0.319189   \n",
            "980 -1.413170  0.248525 -1.127396  ...  0.226138  0.370612  0.028234   \n",
            "981 -2.234739  1.210158 -0.652250  ...  0.247968  0.751826  0.834108   \n",
            "982 -2.208002  1.058733 -1.632333  ...  0.306271  0.583276 -0.269209   \n",
            "983  0.223050 -0.068384  0.577829  ... -0.017652 -0.164350 -0.295135   \n",
            "\n",
            "          V23       V24       V25       V26       V27       V28  Amount  \n",
            "0   -0.110474  0.066928  0.128539 -0.189115  0.133558 -0.021053  149.62  \n",
            "1    0.101288 -0.339846  0.167170  0.125895 -0.008983  0.014724    2.69  \n",
            "2    0.909412 -0.689281 -0.327642 -0.139097 -0.055353 -0.059752  378.66  \n",
            "3   -0.190321 -1.175575  0.647376 -0.221929  0.062723  0.061458  123.50  \n",
            "4   -0.137458  0.141267 -0.206010  0.502292  0.219422  0.215153   69.99  \n",
            "..        ...       ...       ...       ...       ...       ...     ...  \n",
            "979  0.639419 -0.294885  0.537503  0.788395  0.292680  0.147968  390.00  \n",
            "980 -0.145640 -0.081049  0.521875  0.739467  0.389152  0.186637    0.76  \n",
            "981  0.190944  0.032070 -0.739695  0.471111  0.385107  0.194361   77.89  \n",
            "982 -0.456108 -0.183659 -0.328168  0.606116  0.884876 -0.253700  245.00  \n",
            "983 -0.072173 -0.450261  0.313267 -0.289617  0.002988 -0.015309   42.53  \n",
            "\n",
            "[984 rows x 30 columns]\n"
          ]
        }
      ],
      "source": [
        "fraud_testing_labels = fraud_testing_df[\"Class\"]\n",
        "print(fraud_testing_labels)\n",
        "fraud_testing_features = fraud_testing_df.drop(\"Class\", axis = 1)\n",
        "print(fraud_testing_features)"
      ]
    },
    {
      "cell_type": "markdown",
      "metadata": {
        "id": "TiTXWvI-JdWq"
      },
      "source": [
        "## Step 3: Test-Train Split"
      ]
    },
    {
      "cell_type": "markdown",
      "metadata": {
        "id": "9_HDSeIYn0iG"
      },
      "source": [
        "#### Step 3.1: Splitting the data into `X_train`, `X_test`,`y_train`,`y_text`"
      ]
    },
    {
      "cell_type": "code",
      "execution_count": 8,
      "metadata": {
        "id": "TS978N0S_Bcf"
      },
      "outputs": [],
      "source": [
        "X_train, X_test, y_train, y_test = train_test_split(fraud_testing_features, fraud_testing_labels, test_size = 0.2, random_state = 0, stratify = fraud_testing_labels)"
      ]
    },
    {
      "cell_type": "markdown",
      "metadata": {
        "id": "du7SJ6sMoHr8"
      },
      "source": [
        "#### Step 3.2: Scaling the features and converting labels into numpy"
      ]
    },
    {
      "cell_type": "code",
      "execution_count": 9,
      "metadata": {
        "colab": {
          "base_uri": "https://localhost:8080/"
        },
        "id": "TitB65ObJH15",
        "outputId": "81bb6997-455f-4334-af34-7e44cda48a55"
      },
      "outputs": [
        {
          "output_type": "stream",
          "name": "stdout",
          "text": [
            "x train (787, 30)\n",
            " y test (197,)\n"
          ]
        }
      ],
      "source": [
        "scaler = StandardScaler()\n",
        "X_train = scaler.fit_transform(X_train)\n",
        "X_test = scaler.transform(X_test)\n",
        "\n",
        "y_train = y_train.to_numpy()\n",
        "y_test = y_test.to_numpy()\n",
        "\n",
        "print(f\"x train {X_train.shape}\")\n",
        "\n",
        "print(f\" y test {y_test.shape}\")"
      ]
    },
    {
      "cell_type": "markdown",
      "metadata": {
        "id": "I7krvarVoRr7"
      },
      "source": [
        "#### Step 3.3 Changing into a 3 dimensional dataset"
      ]
    },
    {
      "cell_type": "code",
      "execution_count": 10,
      "metadata": {
        "colab": {
          "base_uri": "https://localhost:8080/"
        },
        "id": "xnC80mf1PPp4",
        "outputId": "9cea995a-c6cf-4746-a7c5-fc60dc6a3a1b"
      },
      "outputs": [
        {
          "output_type": "execute_result",
          "data": {
            "text/plain": [
              "((787, 30, 1), (197, 30, 1))"
            ]
          },
          "metadata": {},
          "execution_count": 10
        }
      ],
      "source": [
        "X_train = X_train.reshape(X_train.shape[0], X_train.shape[1], 1)\n",
        "X_test = X_test.reshape(X_test.shape[0], X_test.shape[1], 1)\n",
        "\n",
        "X_train.shape, X_test.shape"
      ]
    },
    {
      "cell_type": "markdown",
      "metadata": {
        "id": "J37vP7-9e33q"
      },
      "source": [
        "## Step 4: Model Building"
      ]
    },
    {
      "cell_type": "markdown",
      "metadata": {
        "id": "PoYdgesqpMQM"
      },
      "source": [
        "#### 4.1 Building a sequential model using `tensorflow.keras` "
      ]
    },
    {
      "cell_type": "code",
      "execution_count": 11,
      "metadata": {
        "id": "Jfqf0hZiKwg0"
      },
      "outputs": [],
      "source": [
        "epochs = 10\n",
        "model = Sequential()\n",
        "model.add(Conv1D(32, 2, activation='relu', input_shape = X_train[0].shape))\n",
        "model.add(BatchNormalization())\n",
        "model.add(Dropout(0.2))\n",
        "\n",
        "model.add(Conv1D(64, 2, activation='relu'))\n",
        "model.add(BatchNormalization())\n",
        "model.add(Dropout(0.5))\n",
        "\n",
        "model.add(Flatten())\n",
        "model.add(Dense(64, activation='relu'))\n",
        "model.add(Dropout(0.5))\n",
        "\n",
        "model.add(Dense(1, activation='sigmoid'))"
      ]
    },
    {
      "cell_type": "markdown",
      "metadata": {
        "id": "OL5yo6k_p6Sm"
      },
      "source": [
        "## Step 5: Compiling the model using the `'Adam'` optimizer"
      ]
    },
    {
      "cell_type": "code",
      "execution_count": 12,
      "metadata": {
        "id": "0TjHIe1BLM9p"
      },
      "outputs": [],
      "source": [
        "model.compile(optimizer= 'Adam', loss = 'binary_crossentropy', metrics=['accuracy'])\n"
      ]
    },
    {
      "cell_type": "markdown",
      "metadata": {
        "id": "zPBvkmPpqKzD"
      },
      "source": [
        "## Step 6: Training the model"
      ]
    },
    {
      "cell_type": "code",
      "execution_count": 13,
      "metadata": {
        "colab": {
          "base_uri": "https://localhost:8080/"
        },
        "id": "PY5rF4cPPeC6",
        "outputId": "859ff613-9ab8-4a65-fdfd-86c993e2317a"
      },
      "outputs": [
        {
          "output_type": "stream",
          "name": "stdout",
          "text": [
            "Epoch 1/10\n",
            "25/25 [==============================] - 7s 32ms/step - loss: 0.3612 - accuracy: 0.8780 - val_loss: 0.5122 - val_accuracy: 0.8629\n",
            "Epoch 2/10\n",
            "25/25 [==============================] - 0s 13ms/step - loss: 0.1651 - accuracy: 0.9441 - val_loss: 0.5411 - val_accuracy: 0.5279\n",
            "Epoch 3/10\n",
            "25/25 [==============================] - 0s 17ms/step - loss: 0.1330 - accuracy: 0.9632 - val_loss: 0.5811 - val_accuracy: 0.5127\n",
            "Epoch 4/10\n",
            "25/25 [==============================] - 0s 14ms/step - loss: 0.0853 - accuracy: 0.9733 - val_loss: 0.6560 - val_accuracy: 0.5076\n",
            "Epoch 5/10\n",
            "25/25 [==============================] - 0s 15ms/step - loss: 0.0718 - accuracy: 0.9746 - val_loss: 0.7439 - val_accuracy: 0.5076\n",
            "Epoch 6/10\n",
            "25/25 [==============================] - 0s 14ms/step - loss: 0.0558 - accuracy: 0.9771 - val_loss: 0.7921 - val_accuracy: 0.5127\n",
            "Epoch 7/10\n",
            "25/25 [==============================] - 0s 16ms/step - loss: 0.0516 - accuracy: 0.9835 - val_loss: 0.7437 - val_accuracy: 0.5381\n",
            "Epoch 8/10\n",
            "25/25 [==============================] - 0s 16ms/step - loss: 0.0435 - accuracy: 0.9835 - val_loss: 0.5297 - val_accuracy: 0.5736\n",
            "Epoch 9/10\n",
            "25/25 [==============================] - 1s 25ms/step - loss: 0.0266 - accuracy: 0.9860 - val_loss: 0.5353 - val_accuracy: 0.5939\n",
            "Epoch 10/10\n",
            "25/25 [==============================] - 0s 14ms/step - loss: 0.0344 - accuracy: 0.9873 - val_loss: 0.5822 - val_accuracy: 0.6041\n"
          ]
        }
      ],
      "source": [
        "history = model.fit(X_train, y_train, epochs=epochs, validation_data=(X_test, y_test), verbose=1)"
      ]
    },
    {
      "cell_type": "markdown",
      "metadata": {
        "id": "ZpkGoFTfe_Hp"
      },
      "source": [
        "## Step 7: Model Evaluation"
      ]
    },
    {
      "cell_type": "markdown",
      "metadata": {
        "id": "FXBOKwfIqS56"
      },
      "source": [
        "#### Step 7.1: Creating `plot_learningCurve` that takes in `history` and `epoch` to make a graph from the given input"
      ]
    },
    {
      "cell_type": "code",
      "execution_count": 14,
      "metadata": {
        "id": "zQ79JXACPkfl"
      },
      "outputs": [],
      "source": [
        "def plot_learningCurve(history, epoch):\n",
        "  # Plot training & validation accuracy values\n",
        "  epoch_range = range(1, epoch+1)\n",
        "  plt.plot(epoch_range, history.history['accuracy'])\n",
        "  plt.plot(epoch_range, history.history['val_accuracy'])\n",
        "  plt.title('Model accuracy')\n",
        "  plt.ylabel('Accuracy')\n",
        "  plt.xlabel('Epoch')\n",
        "  plt.legend(['Train', 'Val'], loc='upper left')\n",
        "  plt.show()\n",
        "\n",
        "  # Plot training & validation loss values\n",
        "  plt.plot(epoch_range, history.history['loss'])\n",
        "  plt.plot(epoch_range, history.history['val_loss'])\n",
        "  plt.title('Model loss')\n",
        "  plt.ylabel('Loss')\n",
        "  plt.xlabel('Epoch')\n",
        "  plt.legend(['Train', 'Val'], loc='upper left')\n",
        "  plt.show()"
      ]
    },
    {
      "cell_type": "markdown",
      "metadata": {
        "id": "2tJyMwapqptb"
      },
      "source": [
        "#### Step 7.2: Running `plot_learningCurve` with the `history` and `epochs`"
      ]
    },
    {
      "cell_type": "code",
      "execution_count": 15,
      "metadata": {
        "colab": {
          "base_uri": "https://localhost:8080/",
          "height": 927
        },
        "id": "t5kNa5OqPo2P",
        "outputId": "70b3b7cc-dbc6-46bc-93d5-1114f4eb9221"
      },
      "outputs": [
        {
          "output_type": "display_data",
          "data": {
            "text/plain": [
              "<Figure size 640x480 with 1 Axes>"
            ],
            "image/png": "[encoded data removed]"
          },
          "metadata": {}
        },
        {
          "output_type": "display_data",
          "data": {
            "text/plain": [
              "<Figure size 640x480 with 1 Axes>"
            ],
            "image/png": "[encoded data removed]"
          },
          "metadata": {}
        }
      ],
      "source": [
        "plot_learningCurve(history, epochs)"
      ]
    },
    {
      "cell_type": "markdown",
      "metadata": {
        "id": "lH4qaa9CBjN0"
      },
      "source": [
        "#### Step 7.3: Further evaluations"
      ]
    },
    {
      "cell_type": "markdown",
      "source": [
        "##### Feature Importance"
      ],
      "metadata": {
        "id": "--bQCSXTNvbu"
      }
    },
    {
      "cell_type": "code",
      "source": [
        "from sklearn.inspection import permutation_importance\n",
        "from sklearn.metrics import accuracy_score\n",
        "\n",
        "# Create a separate variable to store the original 2D shape of X_test before reshaping\n",
        "X_test_original = X_test.reshape(X_test.shape[0], X_test.shape[1])\n",
        "\n",
        "def model_wrapper(X):\n",
        "    X = X.reshape(X.shape[0], X.shape[1], 1)\n",
        "    return model.predict(X).flatten()\n",
        "\n",
        "def custom_scorer(model_func, X, y):\n",
        "    y_pred = np.round(model_func(X))\n",
        "    return accuracy_score(y, y_pred)\n",
        "\n",
        "# Pass X_test_original (2D) and custom_scorer to the permutation_importance function\n",
        "result = permutation_importance(model_wrapper, X_test_original, y_test, n_repeats=10, random_state=0, n_jobs=-1, scoring=custom_scorer)\n",
        "\n",
        "for i in range(X_train.shape[1]):\n",
        "    print(f'Feature {i + 1}: {result.importances_mean[i]:.5f} +/- {result.importances_std[i]:.5f}')\n"
      ],
      "metadata": {
        "colab": {
          "base_uri": "https://localhost:8080/"
        },
        "id": "pFaI8niN12u5",
        "outputId": "f1ad5fd6-cda7-4659-84e1-e07caad8d3cd"
      },
      "execution_count": 16,
      "outputs": [
        {
          "output_type": "stream",
          "name": "stdout",
          "text": [
            "7/7 [==============================] - 0s 5ms/step\n",
            "Feature 1: 0.04772 +/- 0.00885\n",
            "Feature 2: 0.01624 +/- 0.00673\n",
            "Feature 3: -0.02234 +/- 0.00793\n",
            "Feature 4: 0.00000 +/- 0.00681\n",
            "Feature 5: 0.03401 +/- 0.00937\n",
            "Feature 6: -0.00711 +/- 0.00406\n",
            "Feature 7: 0.00863 +/- 0.00720\n",
            "Feature 8: -0.00558 +/- 0.00620\n",
            "Feature 9: -0.02386 +/- 0.00644\n",
            "Feature 10: -0.00863 +/- 0.00603\n",
            "Feature 11: 0.00812 +/- 0.01045\n",
            "Feature 12: -0.01726 +/- 0.00689\n",
            "Feature 13: 0.02538 +/- 0.00642\n",
            "Feature 14: 0.00558 +/- 0.00833\n",
            "Feature 15: 0.01168 +/- 0.00558\n",
            "Feature 16: -0.00355 +/- 0.00683\n",
            "Feature 17: -0.01980 +/- 0.00892\n",
            "Feature 18: -0.00355 +/- 0.00457\n",
            "Feature 19: -0.01827 +/- 0.01045\n",
            "Feature 20: 0.00152 +/- 0.00644\n",
            "Feature 21: -0.00203 +/- 0.00465\n",
            "Feature 22: 0.00203 +/- 0.00337\n",
            "Feature 23: -0.00761 +/- 0.00943\n",
            "Feature 24: -0.00203 +/- 0.00650\n",
            "Feature 25: -0.00051 +/- 0.00479\n",
            "Feature 26: -0.00406 +/- 0.00443\n",
            "Feature 27: 0.00355 +/- 0.00644\n",
            "Feature 28: 0.00000 +/- 0.00321\n",
            "Feature 29: -0.01929 +/- 0.00843\n",
            "Feature 30: 0.00254 +/- 0.00341\n"
          ]
        }
      ]
    },
    {
      "cell_type": "markdown",
      "metadata": {
        "id": "l5C7rFPQB5WB"
      },
      "source": [
        "##### Accuracy Score"
      ]
    },
    {
      "cell_type": "code",
      "execution_count": 17,
      "metadata": {
        "colab": {
          "base_uri": "https://localhost:8080/"
        },
        "id": "ESbtlMFkB9Q3",
        "outputId": "25239e92-2c75-4f21-8414-949c3aad8258"
      },
      "outputs": [
        {
          "output_type": "stream",
          "name": "stdout",
          "text": [
            "Accuracy: 60.41%\n"
          ]
        }
      ],
      "source": [
        "_, accuracy = model.evaluate(X_test, y_test, verbose=0)\n",
        "print('Accuracy: %.2f%%' % (accuracy*100))"
      ]
    },
    {
      "cell_type": "markdown",
      "metadata": {
        "id": "8-78DZsBB_QN"
      },
      "source": [
        "##### Precision and Recall"
      ]
    },
    {
      "cell_type": "code",
      "execution_count": 18,
      "metadata": {
        "colab": {
          "base_uri": "https://localhost:8080/"
        },
        "id": "V4WXiLKmCDM6",
        "outputId": "72cf65f3-1df6-416f-990e-70f95210e18b"
      },
      "outputs": [
        {
          "output_type": "stream",
          "name": "stdout",
          "text": [
            "7/7 [==============================] - 0s 4ms/step\n",
            "Precision: [1.         0.55681818]\n",
            "Recall: [0.21212121 1.        ]\n"
          ]
        }
      ],
      "source": [
        "from sklearn.metrics import precision_recall_fscore_support\n",
        "\n",
        "y_pred = model.predict(X_test)\n",
        "y_pred_classes = np.round(y_pred)\n",
        "precision, recall, _, _ = precision_recall_fscore_support(y_test, y_pred_classes)\n",
        "print('Precision:', precision)\n",
        "print('Recall:', recall)\n"
      ]
    },
    {
      "cell_type": "markdown",
      "metadata": {
        "id": "_hpdTmHzCFEi"
      },
      "source": [
        "##### F1 Score"
      ]
    },
    {
      "cell_type": "code",
      "execution_count": 19,
      "metadata": {
        "colab": {
          "base_uri": "https://localhost:8080/"
        },
        "id": "SVRCnUclCI-_",
        "outputId": "d2482f6c-b270-4174-8af5-cda7173d2802"
      },
      "outputs": [
        {
          "output_type": "stream",
          "name": "stdout",
          "text": [
            "7/7 [==============================] - 0s 4ms/step\n",
            "F1-score: 0.7153284671532847\n"
          ]
        }
      ],
      "source": [
        "from sklearn.metrics import f1_score\n",
        "\n",
        "y_pred = model.predict(X_test)\n",
        "y_pred_classes = np.round(y_pred)\n",
        "f1score = f1_score(y_test, y_pred_classes)\n",
        "print('F1-score:', f1score)\n"
      ]
    },
    {
      "cell_type": "markdown",
      "metadata": {
        "id": "WEEOCHyiCLWE"
      },
      "source": [
        "##### Confustion Matrix"
      ]
    },
    {
      "cell_type": "code",
      "execution_count": 20,
      "metadata": {
        "colab": {
          "base_uri": "https://localhost:8080/"
        },
        "id": "NCivYb81CP4-",
        "outputId": "ebdb75c6-dbef-4a13-9053-8bea9352e993"
      },
      "outputs": [
        {
          "output_type": "stream",
          "name": "stdout",
          "text": [
            "7/7 [==============================] - 0s 3ms/step\n",
            "Confusion Matrix:\n",
            " [[21 78]\n",
            " [ 0 98]]\n"
          ]
        }
      ],
      "source": [
        "from sklearn.metrics import confusion_matrix\n",
        "\n",
        "y_pred = model.predict(X_test)\n",
        "y_pred_classes = np.round(y_pred)\n",
        "cm = confusion_matrix(y_test, y_pred_classes)\n",
        "print('Confusion Matrix:\\n', cm)"
      ]
    },
    {
      "cell_type": "markdown",
      "metadata": {
        "id": "iotd7Qawq9a0"
      },
      "source": [
        "#### Step 7.3: Reflection on the first model\n",
        "From the first model there is a clear indication that it wasn't able to properly predict the data and it was overfitting. To make this model better epoch increase and addition of maxpool will help with predictions."
      ]
    },
    {
      "cell_type": "markdown",
      "metadata": {
        "id": "cWmLmiI-RsVE"
      },
      "source": [
        "## Step 8: Improving the Model"
      ]
    },
    {
      "cell_type": "markdown",
      "metadata": {
        "id": "GoEQRyk3sBo2"
      },
      "source": [
        "#### Step 8.1: Making adjustments to the model"
      ]
    },
    {
      "cell_type": "code",
      "execution_count": 21,
      "metadata": {
        "id": "t5mXx39TPuVG"
      },
      "outputs": [],
      "source": [
        "epochs = 50\n",
        "model = Sequential()\n",
        "model.add(Conv1D(32, 2, activation='relu', input_shape = X_train[0].shape))\n",
        "model.add(BatchNormalization())\n",
        "model.add(MaxPool1D(2))\n",
        "model.add(Dropout(0.2))\n",
        "\n",
        "model.add(Conv1D(64, 2, activation='relu'))\n",
        "model.add(BatchNormalization())\n",
        "model.add(MaxPool1D(2))\n",
        "model.add(Dropout(0.5))\n",
        "\n",
        "model.add(Flatten())\n",
        "model.add(Dense(64, activation='relu'))\n",
        "model.add(Dropout(0.5))\n",
        "\n",
        "model.add(Dense(1, activation='sigmoid'))\n"
      ]
    },
    {
      "cell_type": "markdown",
      "metadata": {
        "id": "fQGnotBasPwa"
      },
      "source": [
        "#### Step 8.2 Compiling the new model using the `'Adam'` optimizer"
      ]
    },
    {
      "cell_type": "code",
      "execution_count": 22,
      "metadata": {
        "id": "3pv1CtiSsL_R"
      },
      "outputs": [],
      "source": [
        "model.compile(optimizer='Adam', loss = 'binary_crossentropy', metrics=['accuracy'])\n"
      ]
    },
    {
      "cell_type": "markdown",
      "metadata": {
        "id": "KCixpIK4saa3"
      },
      "source": [
        "#### Step 8.3 Running the new model"
      ]
    },
    {
      "cell_type": "code",
      "execution_count": 23,
      "metadata": {
        "colab": {
          "base_uri": "https://localhost:8080/"
        },
        "id": "TArob-hfsOgp",
        "outputId": "878d2881-acc2-46b0-d0f9-5db43325ad07"
      },
      "outputs": [
        {
          "output_type": "stream",
          "name": "stdout",
          "text": [
            "Epoch 1/50\n",
            "25/25 [==============================] - 4s 35ms/step - loss: 0.4648 - accuracy: 0.8018 - val_loss: 0.5552 - val_accuracy: 0.8782\n",
            "Epoch 2/50\n",
            "25/25 [==============================] - 0s 14ms/step - loss: 0.2292 - accuracy: 0.9187 - val_loss: 0.5049 - val_accuracy: 0.8477\n",
            "Epoch 3/50\n",
            "25/25 [==============================] - 0s 15ms/step - loss: 0.2100 - accuracy: 0.9327 - val_loss: 0.4586 - val_accuracy: 0.8376\n",
            "Epoch 4/50\n",
            "25/25 [==============================] - 0s 16ms/step - loss: 0.1713 - accuracy: 0.9428 - val_loss: 0.4091 - val_accuracy: 0.8376\n",
            "Epoch 5/50\n",
            "25/25 [==============================] - 0s 14ms/step - loss: 0.1368 - accuracy: 0.9581 - val_loss: 0.3721 - val_accuracy: 0.8477\n",
            "Epoch 6/50\n",
            "25/25 [==============================] - 0s 15ms/step - loss: 0.1516 - accuracy: 0.9466 - val_loss: 0.3254 - val_accuracy: 0.8782\n",
            "Epoch 7/50\n",
            "25/25 [==============================] - 0s 10ms/step - loss: 0.1018 - accuracy: 0.9606 - val_loss: 0.2982 - val_accuracy: 0.8731\n",
            "Epoch 8/50\n",
            "25/25 [==============================] - 0s 11ms/step - loss: 0.0936 - accuracy: 0.9644 - val_loss: 0.2759 - val_accuracy: 0.8731\n",
            "Epoch 9/50\n",
            "25/25 [==============================] - 0s 9ms/step - loss: 0.0999 - accuracy: 0.9670 - val_loss: 0.2233 - val_accuracy: 0.8883\n",
            "Epoch 10/50\n",
            "25/25 [==============================] - 0s 13ms/step - loss: 0.0870 - accuracy: 0.9720 - val_loss: 0.1834 - val_accuracy: 0.9137\n",
            "Epoch 11/50\n",
            "25/25 [==============================] - 0s 16ms/step - loss: 0.0766 - accuracy: 0.9720 - val_loss: 0.1503 - val_accuracy: 0.9289\n",
            "Epoch 12/50\n",
            "25/25 [==============================] - 0s 15ms/step - loss: 0.0744 - accuracy: 0.9759 - val_loss: 0.1250 - val_accuracy: 0.9543\n",
            "Epoch 13/50\n",
            "25/25 [==============================] - 0s 15ms/step - loss: 0.0818 - accuracy: 0.9784 - val_loss: 0.1043 - val_accuracy: 0.9594\n",
            "Epoch 14/50\n",
            "25/25 [==============================] - 0s 14ms/step - loss: 0.0729 - accuracy: 0.9771 - val_loss: 0.0833 - val_accuracy: 0.9594\n",
            "Epoch 15/50\n",
            "25/25 [==============================] - 0s 16ms/step - loss: 0.0506 - accuracy: 0.9797 - val_loss: 0.0846 - val_accuracy: 0.9594\n",
            "Epoch 16/50\n",
            "25/25 [==============================] - 0s 9ms/step - loss: 0.0623 - accuracy: 0.9759 - val_loss: 0.0820 - val_accuracy: 0.9645\n",
            "Epoch 17/50\n",
            "25/25 [==============================] - 0s 10ms/step - loss: 0.0591 - accuracy: 0.9759 - val_loss: 0.0718 - val_accuracy: 0.9746\n",
            "Epoch 18/50\n",
            "25/25 [==============================] - 0s 10ms/step - loss: 0.0463 - accuracy: 0.9797 - val_loss: 0.0725 - val_accuracy: 0.9746\n",
            "Epoch 19/50\n",
            "25/25 [==============================] - 0s 11ms/step - loss: 0.0356 - accuracy: 0.9898 - val_loss: 0.0755 - val_accuracy: 0.9746\n",
            "Epoch 20/50\n",
            "25/25 [==============================] - 0s 9ms/step - loss: 0.0725 - accuracy: 0.9733 - val_loss: 0.0744 - val_accuracy: 0.9797\n",
            "Epoch 21/50\n",
            "25/25 [==============================] - 0s 13ms/step - loss: 0.0421 - accuracy: 0.9860 - val_loss: 0.0677 - val_accuracy: 0.9797\n",
            "Epoch 22/50\n",
            "25/25 [==============================] - 0s 10ms/step - loss: 0.0344 - accuracy: 0.9873 - val_loss: 0.0688 - val_accuracy: 0.9797\n",
            "Epoch 23/50\n",
            "25/25 [==============================] - 0s 10ms/step - loss: 0.0328 - accuracy: 0.9886 - val_loss: 0.0739 - val_accuracy: 0.9797\n",
            "Epoch 24/50\n",
            "25/25 [==============================] - 0s 18ms/step - loss: 0.0354 - accuracy: 0.9886 - val_loss: 0.0792 - val_accuracy: 0.9797\n",
            "Epoch 25/50\n",
            "25/25 [==============================] - 0s 11ms/step - loss: 0.0473 - accuracy: 0.9848 - val_loss: 0.0782 - val_accuracy: 0.9797\n",
            "Epoch 26/50\n",
            "25/25 [==============================] - 0s 10ms/step - loss: 0.0405 - accuracy: 0.9873 - val_loss: 0.0775 - val_accuracy: 0.9797\n",
            "Epoch 27/50\n",
            "25/25 [==============================] - 0s 8ms/step - loss: 0.0302 - accuracy: 0.9860 - val_loss: 0.0781 - val_accuracy: 0.9797\n",
            "Epoch 28/50\n",
            "25/25 [==============================] - 0s 8ms/step - loss: 0.0290 - accuracy: 0.9848 - val_loss: 0.0844 - val_accuracy: 0.9797\n",
            "Epoch 29/50\n",
            "25/25 [==============================] - 0s 12ms/step - loss: 0.0254 - accuracy: 0.9886 - val_loss: 0.0825 - val_accuracy: 0.9797\n",
            "Epoch 30/50\n",
            "25/25 [==============================] - 0s 15ms/step - loss: 0.0267 - accuracy: 0.9873 - val_loss: 0.0786 - val_accuracy: 0.9797\n",
            "Epoch 31/50\n",
            "25/25 [==============================] - 0s 10ms/step - loss: 0.0406 - accuracy: 0.9822 - val_loss: 0.0792 - val_accuracy: 0.9797\n",
            "Epoch 32/50\n",
            "25/25 [==============================] - 0s 8ms/step - loss: 0.0330 - accuracy: 0.9898 - val_loss: 0.0796 - val_accuracy: 0.9848\n",
            "Epoch 33/50\n",
            "25/25 [==============================] - 0s 12ms/step - loss: 0.0433 - accuracy: 0.9822 - val_loss: 0.0780 - val_accuracy: 0.9797\n",
            "Epoch 34/50\n",
            "25/25 [==============================] - 0s 9ms/step - loss: 0.0304 - accuracy: 0.9911 - val_loss: 0.0713 - val_accuracy: 0.9848\n",
            "Epoch 35/50\n",
            "25/25 [==============================] - 0s 13ms/step - loss: 0.0278 - accuracy: 0.9898 - val_loss: 0.0619 - val_accuracy: 0.9848\n",
            "Epoch 36/50\n",
            "25/25 [==============================] - 0s 12ms/step - loss: 0.0232 - accuracy: 0.9911 - val_loss: 0.0571 - val_accuracy: 0.9848\n",
            "Epoch 37/50\n",
            "25/25 [==============================] - 0s 9ms/step - loss: 0.0350 - accuracy: 0.9873 - val_loss: 0.0523 - val_accuracy: 0.9848\n",
            "Epoch 38/50\n",
            "25/25 [==============================] - 0s 9ms/step - loss: 0.0214 - accuracy: 0.9924 - val_loss: 0.0541 - val_accuracy: 0.9797\n",
            "Epoch 39/50\n",
            "25/25 [==============================] - 0s 9ms/step - loss: 0.0182 - accuracy: 0.9949 - val_loss: 0.0583 - val_accuracy: 0.9848\n",
            "Epoch 40/50\n",
            "25/25 [==============================] - 0s 8ms/step - loss: 0.0220 - accuracy: 0.9924 - val_loss: 0.0547 - val_accuracy: 0.9848\n",
            "Epoch 41/50\n",
            "25/25 [==============================] - 0s 10ms/step - loss: 0.0276 - accuracy: 0.9936 - val_loss: 0.0498 - val_accuracy: 0.9848\n",
            "Epoch 42/50\n",
            "25/25 [==============================] - 0s 15ms/step - loss: 0.0122 - accuracy: 0.9975 - val_loss: 0.0509 - val_accuracy: 0.9848\n",
            "Epoch 43/50\n",
            "25/25 [==============================] - 0s 15ms/step - loss: 0.0123 - accuracy: 0.9975 - val_loss: 0.0511 - val_accuracy: 0.9848\n",
            "Epoch 44/50\n",
            "25/25 [==============================] - 0s 14ms/step - loss: 0.0088 - accuracy: 0.9987 - val_loss: 0.0537 - val_accuracy: 0.9848\n",
            "Epoch 45/50\n",
            "25/25 [==============================] - 0s 14ms/step - loss: 0.0283 - accuracy: 0.9886 - val_loss: 0.0573 - val_accuracy: 0.9848\n",
            "Epoch 46/50\n",
            "25/25 [==============================] - 0s 15ms/step - loss: 0.0177 - accuracy: 0.9962 - val_loss: 0.0619 - val_accuracy: 0.9848\n",
            "Epoch 47/50\n",
            "25/25 [==============================] - 0s 15ms/step - loss: 0.0321 - accuracy: 0.9873 - val_loss: 0.0675 - val_accuracy: 0.9848\n",
            "Epoch 48/50\n",
            "25/25 [==============================] - 0s 15ms/step - loss: 0.0188 - accuracy: 0.9962 - val_loss: 0.0745 - val_accuracy: 0.9848\n",
            "Epoch 49/50\n",
            "25/25 [==============================] - 0s 16ms/step - loss: 0.0140 - accuracy: 0.9962 - val_loss: 0.0797 - val_accuracy: 0.9797\n",
            "Epoch 50/50\n",
            "25/25 [==============================] - 0s 17ms/step - loss: 0.0141 - accuracy: 0.9936 - val_loss: 0.0858 - val_accuracy: 0.9797\n"
          ]
        }
      ],
      "source": [
        "history = model.fit(X_train, y_train, epochs=epochs, validation_data=(X_test, y_test), verbose=1)"
      ]
    },
    {
      "cell_type": "markdown",
      "metadata": {
        "id": "tLXQmlw6r5BS"
      },
      "source": [
        "#### Step 8.4: Evaluate the new model"
      ]
    },
    {
      "cell_type": "code",
      "execution_count": 24,
      "metadata": {
        "colab": {
          "base_uri": "https://localhost:8080/",
          "height": 927
        },
        "id": "esXfzBmOPviF",
        "outputId": "7361d104-2a2a-44af-9816-8674caae27df"
      },
      "outputs": [
        {
          "output_type": "display_data",
          "data": {
            "text/plain": [
              "<Figure size 640x480 with 1 Axes>"
            ],
            "image/png": "[encoded data removed]"
          },
          "metadata": {}
        },
        {
          "output_type": "display_data",
          "data": {
            "text/plain": [
              "<Figure size 640x480 with 1 Axes>"
            ],
            "image/png": "[encoded data removed]"
          },
          "metadata": {}
        }
      ],
      "source": [
        "plot_learningCurve(history, epochs)"
      ]
    },
    {
      "cell_type": "markdown",
      "metadata": {
        "id": "OgJCwCpkyN76"
      },
      "source": [
        "## Step 8.5: More model Evaluations"
      ]
    },
    {
      "cell_type": "markdown",
      "source": [
        "##### Feature Importance"
      ],
      "metadata": {
        "id": "05Vppt-7M7lf"
      }
    },
    {
      "cell_type": "code",
      "source": [
        "# Calculate feature importance for the second model\n",
        "result = permutation_importance(model_wrapper, X_test_original, y_test, n_repeats=10, random_state=0, n_jobs=-1, scoring=custom_scorer)\n",
        "\n",
        "for i in range(X_train.shape[1]):\n",
        "    print(f'Feature {i + 1}: {result.importances_mean[i]:.5f} +/- {result.importances_std[i]:.5f}')\n"
      ],
      "metadata": {
        "colab": {
          "base_uri": "https://localhost:8080/"
        },
        "id": "DjZYPMT95vFV",
        "outputId": "fa808e43-759b-4f78-baa2-43400a962cb2"
      },
      "execution_count": 25,
      "outputs": [
        {
          "output_type": "stream",
          "name": "stdout",
          "text": [
            "7/7 [==============================] - 0s 2ms/step\n",
            "Feature 1: 0.22437 +/- 0.01239\n",
            "Feature 2: 0.01015 +/- 0.00393\n",
            "Feature 3: 0.10000 +/- 0.01507\n",
            "Feature 4: 0.00863 +/- 0.00510\n",
            "Feature 5: 0.01269 +/- 0.00943\n",
            "Feature 6: 0.00000 +/- 0.00000\n",
            "Feature 7: 0.00609 +/- 0.00592\n",
            "Feature 8: -0.00102 +/- 0.00305\n",
            "Feature 9: 0.00355 +/- 0.00510\n",
            "Feature 10: 0.00000 +/- 0.00227\n",
            "Feature 11: 0.00203 +/- 0.00518\n",
            "Feature 12: 0.00000 +/- 0.00000\n",
            "Feature 13: 0.00406 +/- 0.00547\n",
            "Feature 14: 0.00000 +/- 0.00000\n",
            "Feature 15: -0.00102 +/- 0.00305\n",
            "Feature 16: -0.00051 +/- 0.00152\n",
            "Feature 17: 0.00102 +/- 0.00380\n",
            "Feature 18: 0.00000 +/- 0.00000\n",
            "Feature 19: 0.00152 +/- 0.00233\n",
            "Feature 20: 0.00051 +/- 0.00273\n",
            "Feature 21: 0.00203 +/- 0.00249\n",
            "Feature 22: 0.00457 +/- 0.00355\n",
            "Feature 23: -0.00305 +/- 0.00249\n",
            "Feature 24: -0.00254 +/- 0.00341\n",
            "Feature 25: 0.00051 +/- 0.00152\n",
            "Feature 26: 0.00000 +/- 0.00000\n",
            "Feature 27: 0.00000 +/- 0.00000\n",
            "Feature 28: 0.00000 +/- 0.00000\n",
            "Feature 29: 0.00000 +/- 0.00000\n",
            "Feature 30: 0.00000 +/- 0.00000\n"
          ]
        }
      ]
    },
    {
      "cell_type": "markdown",
      "metadata": {
        "id": "_dTHxwh8yelZ"
      },
      "source": [
        "##### Accuracy Score"
      ]
    },
    {
      "cell_type": "code",
      "execution_count": 26,
      "metadata": {
        "colab": {
          "base_uri": "https://localhost:8080/"
        },
        "id": "6js8VX5mykLF",
        "outputId": "0c5c41f6-0cf3-40a6-9936-3ba9fae1c9e9"
      },
      "outputs": [
        {
          "output_type": "stream",
          "name": "stdout",
          "text": [
            "Accuracy: 97.97%\n"
          ]
        }
      ],
      "source": [
        "_, accuracy = model.evaluate(X_test, y_test, verbose=0)\n",
        "print('Accuracy: %.2f%%' % (accuracy*100))"
      ]
    },
    {
      "cell_type": "markdown",
      "metadata": {
        "id": "5NgNnMPMylmf"
      },
      "source": [
        "##### Precision and Recall"
      ]
    },
    {
      "cell_type": "code",
      "execution_count": 27,
      "metadata": {
        "colab": {
          "base_uri": "https://localhost:8080/"
        },
        "id": "mEv9qlpWyrP8",
        "outputId": "b51f1908-16cf-47a1-9d20-dda42faa5406"
      },
      "outputs": [
        {
          "output_type": "stream",
          "name": "stdout",
          "text": [
            "7/7 [==============================] - 0s 2ms/step\n",
            "Precision: [0.97979798 0.97959184]\n",
            "Recall: [0.97979798 0.97959184]\n"
          ]
        }
      ],
      "source": [
        "from sklearn.metrics import precision_recall_fscore_support\n",
        "\n",
        "y_pred = model.predict(X_test)\n",
        "y_pred_classes = np.round(y_pred)\n",
        "precision, recall, _, _ = precision_recall_fscore_support(y_test, y_pred_classes)\n",
        "print('Precision:', precision)\n",
        "print('Recall:', recall)\n"
      ]
    },
    {
      "cell_type": "markdown",
      "metadata": {
        "id": "w5JYuu_xytdc"
      },
      "source": [
        "##### F1-Score"
      ]
    },
    {
      "cell_type": "code",
      "execution_count": 28,
      "metadata": {
        "colab": {
          "base_uri": "https://localhost:8080/"
        },
        "id": "BL5QkFjly1BT",
        "outputId": "7365d94e-0d50-4c7b-ab03-3ed17f4da9b6"
      },
      "outputs": [
        {
          "output_type": "stream",
          "name": "stdout",
          "text": [
            "7/7 [==============================] - 0s 3ms/step\n",
            "F1-score: 0.9795918367346939\n"
          ]
        }
      ],
      "source": [
        "from sklearn.metrics import f1_score\n",
        "\n",
        "y_pred = model.predict(X_test)\n",
        "y_pred_classes = np.round(y_pred)\n",
        "f1score = f1_score(y_test, y_pred_classes)\n",
        "print('F1-score:', f1score)\n"
      ]
    },
    {
      "cell_type": "markdown",
      "metadata": {
        "id": "60XjmFh6y3Rv"
      },
      "source": [
        "##### Confusion Matrix"
      ]
    },
    {
      "cell_type": "code",
      "execution_count": 29,
      "metadata": {
        "colab": {
          "base_uri": "https://localhost:8080/"
        },
        "id": "OQphKoN3y-QW",
        "outputId": "1858bab8-093f-4659-b8b9-4abafcd05f44"
      },
      "outputs": [
        {
          "output_type": "stream",
          "name": "stdout",
          "text": [
            "7/7 [==============================] - 0s 2ms/step\n",
            "Confusion Matrix:\n",
            " [[97  2]\n",
            " [ 2 96]]\n"
          ]
        }
      ],
      "source": [
        "from sklearn.metrics import confusion_matrix\n",
        "\n",
        "y_pred = model.predict(X_test)\n",
        "y_pred_classes = np.round(y_pred)\n",
        "cm = confusion_matrix(y_test, y_pred_classes)\n",
        "print('Confusion Matrix:\\n', cm)"
      ]
    }
  ],
  "metadata": {
    "colab": {
      "provenance": []
    },
    "kernelspec": {
      "display_name": "Python 3",
      "name": "python3"
    },
    "language_info": {
      "name": "python"
    }
  },
  "nbformat": 4,
  "nbformat_minor": 0
}